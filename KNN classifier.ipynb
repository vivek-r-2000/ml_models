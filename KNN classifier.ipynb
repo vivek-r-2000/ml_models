{
 "cells": [
  {
   "cell_type": "markdown",
   "id": "186be3d3",
   "metadata": {},
   "source": [
    "# KNN Classifier"
   ]
  },
  {
   "cell_type": "markdown",
   "id": "edeabff5",
   "metadata": {},
   "source": [
    "### Dataset"
   ]
  },
  {
   "cell_type": "code",
   "execution_count": 48,
   "id": "69cac090",
   "metadata": {},
   "outputs": [],
   "source": [
    "import numpy as np\n",
    "import pandas as pd\n",
    "from sklearn.model_selection import train_test_split\n",
    "from scipy import stats"
   ]
  },
  {
   "cell_type": "code",
   "execution_count": 49,
   "id": "e0fa6912",
   "metadata": {},
   "outputs": [],
   "source": [
    "#Load data\n",
    "iris = pd.read_csv('Iris.csv')\n",
    "#data cleaning\n",
    "iris.drop(columns=\"Id\",inplace=True)"
   ]
  },
  {
   "cell_type": "code",
   "execution_count": 50,
   "id": "1ca8135b",
   "metadata": {},
   "outputs": [],
   "source": [
    "#features and labels\n",
    "X=iris.iloc[:,0:4].values\n",
    "y=iris.iloc[:,4].values\n",
    "\n",
    "#Train and Test split\n",
    "X_train,X_test,y_train,y_test=train_test_split(X,y,test_size=0.2,random_state=0)"
   ]
  },
  {
   "cell_type": "code",
   "execution_count": 56,
   "id": "cf8e8944",
   "metadata": {},
   "outputs": [],
   "source": [
    "def knn(k):\n",
    "    Distance = np.zeros(X_train.shape[0])\n",
    "    prediction = []\n",
    "    for i in range(X_test.shape[0]):\n",
    "        Distance = np.linalg.norm(X_test[i]-X_train,axis=1)\n",
    "        knn = np.argsort(Distance)[:k]\n",
    "        prediction.append(stats.mode(y_train[knn])[0])\n",
    "    return prediction"
   ]
  },
  {
   "cell_type": "code",
   "execution_count": 75,
   "id": "13afee6b",
   "metadata": {},
   "outputs": [
    {
     "name": "stdout",
     "output_type": "stream",
     "text": [
      "for k = 1 accuracy = 100.0\n",
      "for k = 3 accuracy = 96.66666666666667\n",
      "for k = 5 accuracy = 96.66666666666667\n",
      "for k = 7 accuracy = 100.0\n",
      "for k = 9 accuracy = 100.0\n",
      "for k = 11 accuracy = 100.0\n",
      "for k = 13 accuracy = 100.0\n"
     ]
    }
   ],
   "source": [
    "k = [1,3,5,7,9,11,13]\n",
    "for k_i in k:\n",
    "    accuracy = 0\n",
    "    prediction = knn(k_i)\n",
    "    for i in range(X_test.shape[0]):\n",
    "        if(prediction[i] == y_test[i]):\n",
    "            accuracy += 1\n",
    "    accuracy /= X_test.shape[0]\n",
    "    print(\"for k = \" + str(k_i) +\" accuracy = \" + str(accuracy*100))"
   ]
  }
 ],
 "metadata": {
  "interpreter": {
   "hash": "916dbcbb3f70747c44a77c7bcd40155683ae19c65e1c03b4aa3499c5328201f1"
  },
  "kernelspec": {
   "display_name": "Python [conda env:py36] *",
   "language": "python",
   "name": "python3"
  },
  "language_info": {
   "codemirror_mode": {
    "name": "ipython",
    "version": 3
   },
   "file_extension": ".py",
   "mimetype": "text/x-python",
   "name": "python",
   "nbconvert_exporter": "python",
   "pygments_lexer": "ipython3",
   "version": "3.8.10"
  }
 },
 "nbformat": 4,
 "nbformat_minor": 5
}
