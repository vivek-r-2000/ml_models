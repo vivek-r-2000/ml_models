{
  "nbformat": 4,
  "nbformat_minor": 0,
  "metadata": {
    "colab": {
      "name": "SVM.ipynb",
      "provenance": [],
      "collapsed_sections": []
    },
    "kernelspec": {
      "display_name": "Python 3",
      "language": "python",
      "name": "python3"
    },
    "language_info": {
      "codemirror_mode": {
        "name": "ipython",
        "version": 3
      },
      "file_extension": ".py",
      "mimetype": "text/x-python",
      "name": "python",
      "nbconvert_exporter": "python",
      "pygments_lexer": "ipython3",
      "version": "3.8.10"
    }
  },
  "cells": [
    {
      "cell_type": "markdown",
      "metadata": {
        "id": "KFqwgxfkI9qG"
      },
      "source": [
        "# Support Vector Machines\n",
        "\n",
        "In this section of the assignment, you will get to implement Support Vector Machines which are among the best (and many believe are indeed the best) “off-the-shelf” supervised learning algorithm.\n",
        "\n",
        "This section is further divided into 3 subsections.\n",
        "\n",
        "\n",
        "*   In the first subsection, you will work on a synthetic dataset and visualize the boundary predicted by SVM. You will also vary the value of C-parameter and see how the decision boundary changes. **Please note that you cannot use inbuilt sklearn function for SVM in this sub-section**. You can only use a QCQP (Quadratically Constrained Quadratic Program) solver like CVXPY. \n",
        "\n",
        "  References which you may find helpful for this subsection: \n",
        "  \n",
        "  1.   https://www.cvxpy.org/\n",
        "  2.   https://www.cvxpy.org/examples/basic/quadratic_program.html\n",
        "\n",
        "  Note that in this section you are expected to show how you derived the Quadratically Constrained form(which can be passed into the solver) from the basic principles of SVM algorithm\n",
        "*  In the next subsection you will use be using the famous MNIST dataset to explore various kernels and report the results. **Please note you may use inbuilt sklearn SVM functions in this subsection**\n"
      ]
    },
    {
      "cell_type": "code",
      "metadata": {
        "id": "Ub9ArRIDI9qR"
      },
      "source": [
        "# !pip install numpy\n",
        "# !pip install matplotlib\n",
        "# !pip install cvxpy\n",
        "import numpy as np\n",
        "import cvxpy as cp\n",
        "import matplotlib.pyplot as plt"
      ],
      "execution_count": 3,
      "outputs": []
    },
    {
      "cell_type": "markdown",
      "metadata": {
        "id": "GasJBLV5I9qf"
      },
      "source": [
        "### Subsection 1"
      ]
    },
    {
      "cell_type": "code",
      "metadata": {
        "id": "eulkE0pTI9qg"
      },
      "source": [
        "# Feel free to use this helper function to visualize 2D points X with labels +1 or -1\n",
        "def plot_points(X, Y):\n",
        "    reds = []\n",
        "    blues = []\n",
        "    for i in range(Y.shape[0]):\n",
        "        if Y[i] == 1:\n",
        "            reds.append(X[i])\n",
        "        else:\n",
        "            blues.append(X[i])\n",
        "    reds = np.array(reds)\n",
        "    blues = np.array(blues)\n",
        "    plt.scatter(reds[:, 0], reds[:, 1], c = 'r')\n",
        "    plt.scatter(blues[:, 0], blues[:, 1], c = 'b')"
      ],
      "execution_count": null,
      "outputs": []
    },
    {
      "cell_type": "code",
      "metadata": {
        "id": "rpWOqtHjI9qi",
        "outputId": "a98ded7e-f1ba-4e39-943d-c1776f3cbbf8"
      },
      "source": [
        "# Create Synthetic Data and visualize the points\n",
        "X = np.array([[-3.5, -1], [-3, 0], [-3, 1], [-2.7, -1.3], [-2, -1], [-2, -2.7], \n",
        "              [-1, -2.5], [0, -3], [-1.1, 0], [0, 2.5], [1, 2], [0.7, 4], \n",
        "              [2.1, 0.2], [2.3, 1], [2.8, 1.8], [2.2, 2.8]])\n",
        "y = np.array([1, 1, 1, 1, 1, 1, 1, 1, -1, -1, -1, -1, -1, -1, -1, -1])\n",
        "\n",
        "plot_points(X, y)\n",
        "plt.show()"
      ],
      "execution_count": null,
      "outputs": [
        {
          "data": {
            "image/png": "[encoded data removed]",
            "text/plain": [
              "<Figure size 432x288 with 1 Axes>"
            ]
          },
          "metadata": {
            "needs_background": "light"
          },
          "output_type": "display_data"
        }
      ]
    },
    {
      "cell_type": "markdown",
      "metadata": {
        "id": "qkXWnVMuI9qk"
      },
      "source": [
        "In the next cell you are required to derive the Quadratic Constrained Quadratic form of SVM **without soft constraints** from the basic principles. Start with the idea that SVM tries to maximize the margin and then derive the form which you can feed to the solver.\n",
        "\n",
        "Please print the values of w, b. \n",
        "\n",
        "**Note: You are also required to upload a page of the derivation. You may also type it in markdown here.**\n",
        "\n",
        "**Note: You cannot use sklearn SVM functions here.**"
      ]
    },
    {
      "cell_type": "code",
      "metadata": {
        "id": "hsvWA3TtUTJ4",
        "outputId": "83b9dda2-f649-4bb5-b821-e1899ad65ec6"
      },
      "source": [
        "w = cp.Variable(2)\n",
        "b = cp.Variable()\n",
        "objective = cp.Minimize(0.5*sum(w**2))\n",
        "constraint = [ y[i]*(X[i,0]*w[0] + X[i,1]*w[1] + b) - 1 >= 0 for i in range(len(y)) ]\n",
        "cp.Problem(objective,constraint).solve()\n",
        "b_val = b.value\n",
        "w_val = w.value\n",
        "print(w_val,b_val)\n"
      ],
      "execution_count": null,
      "outputs": [
        {
          "name": "stdout",
          "output_type": "stream",
          "text": [
            "[-1.73913043 -1.30434783] -2.9130434782608705\n"
          ]
        }
      ]
    },
    {
      "cell_type": "markdown",
      "metadata": {
        "id": "E1qoXcdDI9qm"
      },
      "source": [
        "In the next cell you are required to visualize the boundary predicted by the solver. You may want to revise up on how to plot the a line given w, b. Please plot w vector as well as the margin lines\n",
        "\n",
        "You may want to create a function to plot the line of separation as you would require this frequently in the subsequent parts of the assignment."
      ]
    },
    {
      "cell_type": "code",
      "metadata": {
        "id": "X3271BtYI9qo",
        "outputId": "ce356077-ad4f-45a4-f510-732468ba082f"
      },
      "source": [
        "x_axis = np.linspace(-4,4)\n",
        "plot_points(X, y)\n",
        "\n",
        "plt.plot(x_axis,-(x_axis*w_val[0]+b_val)/w_val[1])\n"
      ],
      "execution_count": null,
      "outputs": [
        {
          "data": {
            "text/plain": [
              "[<matplotlib.lines.Line2D at 0x7fa4af6259a0>]"
            ]
          },
          "execution_count": 81,
          "metadata": {},
          "output_type": "execute_result"
        },
        {
          "data": {
            "image/png": "[encoded data removed]",
            "text/plain": [
              "<Figure size 432x288 with 1 Axes>"
            ]
          },
          "metadata": {
            "needs_background": "light"
          },
          "output_type": "display_data"
        }
      ]
    },
    {
      "cell_type": "markdown",
      "metadata": {
        "id": "NnSqBDqqI9qp"
      },
      "source": [
        "In the next cell please plot only the support vectors along with the boundary, w vector, and margins. \n",
        "\n",
        "**Note: You are not supposed to hard-code the points here.**"
      ]
    },
    {
      "cell_type": "code",
      "metadata": {
        "id": "wPBNQB-DI9qq",
        "outputId": "ee4fedbb-515a-4d84-f32f-5d6bc197eaa9"
      },
      "source": [
        "# Write your code here\n",
        "plot_points(X, y)\n",
        "\n",
        "plt.plot(x_axis,-(x_axis*w_val[0]+b_val)/w_val[1])\n",
        "plt.plot(x_axis,-(x_axis*w_val[0]+b_val)/w_val[1]+1)\n",
        "plt.plot(x_axis,-(x_axis*w_val[0]+b_val)/w_val[1]-1)\n"
      ],
      "execution_count": null,
      "outputs": [
        {
          "data": {
            "text/plain": [
              "[<matplotlib.lines.Line2D at 0x7fa4af42f1f0>]"
            ]
          },
          "execution_count": 82,
          "metadata": {},
          "output_type": "execute_result"
        },
        {
          "data": {
            "image/png": "[encoded data removed]",
            "text/plain": [
              "<Figure size 432x288 with 1 Axes>"
            ]
          },
          "metadata": {
            "needs_background": "light"
          },
          "output_type": "display_data"
        }
      ]
    },
    {
      "cell_type": "markdown",
      "metadata": {
        "id": "x0Kso1FfI9qs"
      },
      "source": [
        "In the next cell add the following points:\n",
        "* (-4, -10) with label 1\n",
        "* (4, 4) with label -1\n",
        "\n",
        "Is the decision boundary changed after adding the points? Explain your observations theoretically."
      ]
    },
    {
      "cell_type": "code",
      "metadata": {
        "id": "m4V4ea1-I9qs"
      },
      "source": [
        "# Re-create the Synthetic Data by adding the points and visualize the points\n",
        "X = np.append(X,[[-4,-10],[4,4]],axis = 0)\n",
        "y = np.append(y,[1,-1],axis = 0)"
      ],
      "execution_count": null,
      "outputs": []
    },
    {
      "cell_type": "code",
      "metadata": {
        "id": "rW8Kgpb6UTJ8",
        "outputId": "ab65d385-f610-4611-f4b3-a9bb3890a48d"
      },
      "source": [
        "plot_points(X, y)"
      ],
      "execution_count": null,
      "outputs": [
        {
          "data": {
            "image/png": "[encoded data removed]",
            "text/plain": [
              "<Figure size 432x288 with 1 Axes>"
            ]
          },
          "metadata": {
            "needs_background": "light"
          },
          "output_type": "display_data"
        }
      ]
    },
    {
      "cell_type": "code",
      "metadata": {
        "id": "sW93Z-FiI9qt",
        "outputId": "b7a6f690-acb1-4381-f7d9-7fcb463934cf"
      },
      "source": [
        "# Solve for the decision boundary using this modified dataset\n",
        "objective = cp.Minimize(0.5*sum(w**2))\n",
        "constraint = [ y[i]*(X[i,0]*w[0] + X[i,1]*w[1] + b) - 1 >= 0 for i in range(len(y)) ]\n",
        "\n",
        "cp.Problem(objective,constraint).solve()\n",
        "b_val = b.value\n",
        "w_val = w.value\n",
        "x_axis = np.linspace(-4,4)\n",
        "plot_points(X, y)\n",
        "\n",
        "plt.plot(x_axis,-(x_axis*w_val[0]+b_val)/w_val[1])\n"
      ],
      "execution_count": null,
      "outputs": [
        {
          "data": {
            "text/plain": [
              "[<matplotlib.lines.Line2D at 0x7fa4af50c4f0>]"
            ]
          },
          "execution_count": 83,
          "metadata": {},
          "output_type": "execute_result"
        },
        {
          "data": {
            "image/png": "[encoded data removed]",
            "text/plain": [
              "<Figure size 432x288 with 1 Axes>"
            ]
          },
          "metadata": {
            "needs_background": "light"
          },
          "output_type": "display_data"
        }
      ]
    },
    {
      "cell_type": "code",
      "metadata": {
        "id": "zkUIplujUTJ9",
        "outputId": "427ab853-e5a8-46bf-840c-a4c6d95f6301"
      },
      "source": [
        "print(w_val,b_val)\n"
      ],
      "execution_count": null,
      "outputs": [
        {
          "name": "stdout",
          "output_type": "stream",
          "text": [
            "[-1.73913043 -1.30434783] -2.9130434782608705\n"
          ]
        }
      ]
    },
    {
      "cell_type": "markdown",
      "metadata": {
        "id": "AiepQDo3I9qu"
      },
      "source": [
        "In the next cell you are required to modify your framing of optimisation problem to incorporate soft constraints also known as slack. Plot the decision boundary, w and margin lines for various values of C: $0.01$, $0.1$, $3$, $10$, $100$.\n",
        "\n",
        "Explain your results theoretically. How does the boundary change with varying values of C? Why?\n",
        "\n",
        "**Note: Use the modified X and y i.e after adding points in previous cell.**"
      ]
    },
    {
      "cell_type": "code",
      "metadata": {
        "id": "TVEix42nI9qu",
        "outputId": "7744430a-0835-4e99-ae64-c9174c45286a"
      },
      "source": [
        "# Write your code here for C= 0.01\n",
        "C = 0.01\n",
        "psi =cp.Variable(X.shape[0])\n",
        "objective = cp.Minimize(0.5*sum(w**2) + C*sum(psi))\n",
        "constraint = [ y[i]*(X[i,0]*w[0] + X[i,1]*w[1] + b) - 1 + psi[i] >= 0 for i in range(len(y)) ]\n",
        "constraint.append(psi>=0)\n",
        "cp.Problem(objective,constraint).solve()\n",
        "\n",
        "\n",
        "b_val = b.value\n",
        "w_val = w.value\n",
        "print(w_val,b_val)\n",
        "x_axis = np.linspace(-4,4)\n",
        "plot_points(X, y)\n",
        "\n",
        "plt.plot(x_axis,-(x_axis*w_val[0]+b_val)/w_val[1])"
      ],
      "execution_count": null,
      "outputs": [
        {
          "name": "stdout",
          "output_type": "stream",
          "text": [
            "[-0.22506809 -0.19858949] 0.013672178988326457\n"
          ]
        },
        {
          "data": {
            "text/plain": [
              "[<matplotlib.lines.Line2D at 0x7fa4af84c820>]"
            ]
          },
          "execution_count": 74,
          "metadata": {},
          "output_type": "execute_result"
        },
        {
          "data": {
            "image/png": "[encoded data removed]",
            "text/plain": [
              "<Figure size 432x288 with 1 Axes>"
            ]
          },
          "metadata": {
            "needs_background": "light"
          },
          "output_type": "display_data"
        }
      ]
    },
    {
      "cell_type": "code",
      "metadata": {
        "id": "f8tdPNMAI9qv",
        "outputId": "b162716a-e545-40e9-d7cf-667ac68ebb3c"
      },
      "source": [
        "# Write your code here for C= 0.1\n",
        "C = 0.1\n",
        "psi =cp.Variable(X.shape[0])\n",
        "objective = cp.Minimize(0.5*sum(w**2) + C*sum(psi))\n",
        "constraint = [ y[i]*(X[i,0]*w[0] + X[i,1]*w[1] + b) - 1 + psi[i] >= 0 for i in range(len(y)) ]\n",
        "constraint.append(psi>=0)\n",
        "cp.Problem(objective,constraint).solve()\n",
        "\n",
        "\n",
        "b_val = b.value\n",
        "w_val = w.value\n",
        "x_axis = np.linspace(-4,4)\n",
        "plot_points(X, y)\n",
        "print(w_val,b_val)\n",
        "\n",
        "plt.plot(x_axis,-(x_axis*w_val[0]+b_val)/w_val[1])"
      ],
      "execution_count": null,
      "outputs": [
        {
          "name": "stdout",
          "output_type": "stream",
          "text": [
            "[-0.38493724 -0.35146444] -0.12133891213389113\n"
          ]
        },
        {
          "data": {
            "text/plain": [
              "[<matplotlib.lines.Line2D at 0x7fa4af859760>]"
            ]
          },
          "execution_count": 75,
          "metadata": {},
          "output_type": "execute_result"
        },
        {
          "data": {
            "image/png": "[encoded data removed]",
            "text/plain": [
              "<Figure size 432x288 with 1 Axes>"
            ]
          },
          "metadata": {
            "needs_background": "light"
          },
          "output_type": "display_data"
        }
      ]
    },
    {
      "cell_type": "code",
      "metadata": {
        "id": "Xf5hfxRRI9qw",
        "outputId": "b3a746c3-c190-4090-f260-a07f011cb44c"
      },
      "source": [
        "# Write your code here for C= 3\n",
        "C = 3\n",
        "psi =cp.Variable(X.shape[0])\n",
        "objective = cp.Minimize(0.5*sum(w**2) + C*sum(psi))\n",
        "constraint = [ y[i]*(X[i,0]*w[0] + X[i,1]*w[1] + b) - 1 + psi[i] >= 0 for i in range(len(y)) ]\n",
        "constraint.append(psi>=0)\n",
        "cp.Problem(objective,constraint).solve()\n",
        "\n",
        "\n",
        "b_val = b.value\n",
        "w_val = w.value\n",
        "x_axis = np.linspace(-4,4)\n",
        "plot_points(X, y)\n",
        "print(w_val,b_val)\n",
        "\n",
        "plt.plot(x_axis,-(x_axis*w_val[0]+b_val)/w_val[1])"
      ],
      "execution_count": null,
      "outputs": [
        {
          "name": "stdout",
          "output_type": "stream",
          "text": [
            "[-1.73913043 -1.30434783] -2.913043478260871\n"
          ]
        },
        {
          "data": {
            "text/plain": [
              "[<matplotlib.lines.Line2D at 0x7fa4af8d3cd0>]"
            ]
          },
          "execution_count": 76,
          "metadata": {},
          "output_type": "execute_result"
        },
        {
          "data": {
            "image/png": "[encoded data removed]",
            "text/plain": [
              "<Figure size 432x288 with 1 Axes>"
            ]
          },
          "metadata": {
            "needs_background": "light"
          },
          "output_type": "display_data"
        }
      ]
    },
    {
      "cell_type": "code",
      "metadata": {
        "id": "qecGoXdnI9qx",
        "outputId": "c9070a42-8e69-4a18-98d6-1cf00feca9b4"
      },
      "source": [
        "# Write your code here for C= 10\n",
        "C = 10\n",
        "psi =cp.Variable(X.shape[0])\n",
        "objective = cp.Minimize(0.5*sum(w**2) + C*sum(psi))\n",
        "constraint = [ y[i]*(X[i,0]*w[0] + X[i,1]*w[1] + b) - 1 + psi[i] >= 0 for i in range(len(y)) ]\n",
        "constraint.append(psi>=0)\n",
        "\n",
        "cp.Problem(objective,constraint).solve()\n",
        "\n",
        "\n",
        "b_val = b.value\n",
        "w_val = w.value\n",
        "x_axis = np.linspace(-4,4)\n",
        "plot_points(X, y)\n",
        "print(w_val,b_val)\n",
        "\n",
        "plt.plot(x_axis,-(x_axis*w_val[0]+b_val)/w_val[1])"
      ],
      "execution_count": null,
      "outputs": [
        {
          "name": "stdout",
          "output_type": "stream",
          "text": [
            "[-1.73913043 -1.30434783] -2.913043478260871\n"
          ]
        },
        {
          "data": {
            "text/plain": [
              "[<matplotlib.lines.Line2D at 0x7fa4af6a59d0>]"
            ]
          },
          "execution_count": 77,
          "metadata": {},
          "output_type": "execute_result"
        },
        {
          "data": {
            "image/png": "[encoded data removed]",
            "text/plain": [
              "<Figure size 432x288 with 1 Axes>"
            ]
          },
          "metadata": {
            "needs_background": "light"
          },
          "output_type": "display_data"
        }
      ]
    },
    {
      "cell_type": "code",
      "metadata": {
        "id": "cO3_kVe9I9qy",
        "outputId": "1025347d-5c9a-4fc6-f5bf-0b3c0a3c8dcf"
      },
      "source": [
        "# Write your code here for C= 100\n",
        "C = 100\n",
        "psi =cp.Variable(X.shape[0])\n",
        "objective = cp.Minimize(0.5*sum(w**2) + C*sum(psi))\n",
        "constraint = [ y[i]*(X[i,0]*w[0] + X[i,1]*w[1] + b) - 1 + psi[i] >= 0 for i in range(len(y)) ]\n",
        "constraint.append(psi>=0)\n",
        "\n",
        "cp.Problem(objective,constraint).solve()\n",
        "\n",
        "\n",
        "b_val = b.value\n",
        "w_val = w.value\n",
        "x_axis = np.linspace(-4,4)\n",
        "plot_points(X, y)\n",
        "print(w_val,b_val)\n",
        "plt.plot(x_axis,-(x_axis*w_val[0]+b_val)/w_val[1])"
      ],
      "execution_count": null,
      "outputs": [
        {
          "name": "stdout",
          "output_type": "stream",
          "text": [
            "[-1.73913043 -1.30434783] -2.913043478260871\n"
          ]
        },
        {
          "data": {
            "text/plain": [
              "[<matplotlib.lines.Line2D at 0x7fa4af632a00>]"
            ]
          },
          "execution_count": 78,
          "metadata": {},
          "output_type": "execute_result"
        },
        {
          "data": {
            "image/png": "[encoded data removed]",
            "text/plain": [
              "<Figure size 432x288 with 1 Axes>"
            ]
          },
          "metadata": {
            "needs_background": "light"
          },
          "output_type": "display_data"
        }
      ]
    },
    {
      "cell_type": "markdown",
      "metadata": {
        "id": "K7crSrYuI9qy"
      },
      "source": [
        "Take the case of C = 100 and remove the support vectors. Does the boundary change after the deletion?\n",
        "Explain why? Show your results by appropriate plots?"
      ]
    },
    {
      "cell_type": "code",
      "metadata": {
        "id": "DxC0xdsEI9qz",
        "outputId": "a6642611-669d-4fa1-969d-e82ccf0c6f86"
      },
      "source": [
        "# Write your Code here\n",
        "C = 100\n",
        "psi =cp.Variable(X.shape[0])\n",
        "objective = cp.Minimize(0.5*sum(w**2) + C*sum(psi))\n",
        "constraint = [ y[i]*(X[i,0]*w[0] + X[i,1]*w[1] + b) + psi[i] >= 0 for i in range(len(y)) ]\n",
        "constraint.append(psi>=0)\n",
        "cp.Problem(objective,constraint).solve()\n",
        "\n",
        "\n",
        "b_val = b.value\n",
        "w_val = w.value\n",
        "# print(psi.value)\n",
        "x_axis = np.linspace(-4,4)\n",
        "plot_points(X, y)\n",
        "print(w_val,b_val)\n",
        "plt.plot(x_axis,-(x_axis*w_val[0]+b_val)/w_val[1])"
      ],
      "execution_count": null,
      "outputs": [
        {
          "name": "stdout",
          "output_type": "stream",
          "text": [
            "[1.00013542e-30 1.00013542e-30 2.39350263e-22 1.00013542e-30\n",
            " 1.00013542e-30 1.00013542e-30 1.00013542e-30 5.41079918e-23\n",
            " 1.00013542e-30 1.00013542e-30 1.00013542e-30 1.00013542e-30\n",
            " 1.00013542e-30 1.00013542e-30 1.00013542e-30 1.00013542e-30\n",
            " 1.00013542e-30 1.00013542e-30]\n",
            "[1.17022487e-16 8.77666984e-17] 2.63299984115913e-16\n"
          ]
        },
        {
          "data": {
            "text/plain": [
              "[<matplotlib.lines.Line2D at 0x7fa4af953ac0>]"
            ]
          },
          "execution_count": 72,
          "metadata": {},
          "output_type": "execute_result"
        },
        {
          "data": {
            "image/png": "[encoded data removed]",
            "text/plain": [
              "<Figure size 432x288 with 1 Axes>"
            ]
          },
          "metadata": {
            "needs_background": "light"
          },
          "output_type": "display_data"
        }
      ]
    },
    {
      "cell_type": "markdown",
      "metadata": {
        "id": "7goMP4wFI9q0"
      },
      "source": [
        "### Subsection 2"
      ]
    },
    {
      "cell_type": "code",
      "metadata": {
        "id": "PZdBRpHuI9q0",
        "colab": {
          "base_uri": "https://localhost:8080/"
        },
        "outputId": "b8e358fb-1123-4f98-8286-98f269fbc099"
      },
      "source": [
        "!pip install python-mnist\n",
        "!rm -rf samples\n",
        "!mkdir samples\n",
        "!wget http://yann.lecun.com/exdb/mnist/train-images-idx3-ubyte.gz -P samples/\n",
        "!gunzip samples/train-images-idx3-ubyte.gz\n",
        "!wget http://yann.lecun.com/exdb/mnist/train-labels-idx1-ubyte.gz -P samples/\n",
        "!gunzip samples/train-labels-idx1-ubyte.gz\n",
        "!wget http://yann.lecun.com/exdb/mnist/t10k-images-idx3-ubyte.gz -P samples/\n",
        "!gunzip samples/t10k-images-idx3-ubyte.gz\n",
        "!wget http://yann.lecun.com/exdb/mnist/t10k-labels-idx1-ubyte.gz -P samples/\n",
        "!gunzip samples/t10k-labels-idx1-ubyte.gz"
      ],
      "execution_count": 5,
      "outputs": [
        {
          "output_type": "stream",
          "name": "stdout",
          "text": [
            "Collecting python-mnist\n",
            "  Downloading python_mnist-0.7-py2.py3-none-any.whl (9.6 kB)\n",
            "Installing collected packages: python-mnist\n",
            "Successfully installed python-mnist-0.7\n",
            "--2021-12-04 14:59:33--  http://yann.lecun.com/exdb/mnist/train-images-idx3-ubyte.gz\n",
            "Resolving yann.lecun.com (yann.lecun.com)... 104.21.29.36, 172.67.171.76, 2606:4700:3034::6815:1d24, ...\n",
            "Connecting to yann.lecun.com (yann.lecun.com)|104.21.29.36|:80... connected.\n",
            "HTTP request sent, awaiting response... 200 OK\n",
            "Length: 9912422 (9.5M) [application/x-gzip]\n",
            "Saving to: ‘samples/train-images-idx3-ubyte.gz’\n",
            "\n",
            "train-images-idx3-u 100%[===================>]   9.45M  --.-KB/s    in 0.1s    \n",
            "\n",
            "2021-12-04 14:59:33 (86.2 MB/s) - ‘samples/train-images-idx3-ubyte.gz’ saved [9912422/9912422]\n",
            "\n",
            "--2021-12-04 14:59:33--  http://yann.lecun.com/exdb/mnist/train-labels-idx1-ubyte.gz\n",
            "Resolving yann.lecun.com (yann.lecun.com)... 104.21.29.36, 172.67.171.76, 2606:4700:3034::6815:1d24, ...\n",
            "Connecting to yann.lecun.com (yann.lecun.com)|104.21.29.36|:80... connected.\n",
            "HTTP request sent, awaiting response... 200 OK\n",
            "Length: 28881 (28K) [application/x-gzip]\n",
            "Saving to: ‘samples/train-labels-idx1-ubyte.gz’\n",
            "\n",
            "train-labels-idx1-u 100%[===================>]  28.20K  --.-KB/s    in 0s      \n",
            "\n",
            "2021-12-04 14:59:33 (253 MB/s) - ‘samples/train-labels-idx1-ubyte.gz’ saved [28881/28881]\n",
            "\n",
            "--2021-12-04 14:59:34--  http://yann.lecun.com/exdb/mnist/t10k-images-idx3-ubyte.gz\n",
            "Resolving yann.lecun.com (yann.lecun.com)... 104.21.29.36, 172.67.171.76, 2606:4700:3034::6815:1d24, ...\n",
            "Connecting to yann.lecun.com (yann.lecun.com)|104.21.29.36|:80... connected.\n",
            "HTTP request sent, awaiting response... 200 OK\n",
            "Length: 1648877 (1.6M) [application/x-gzip]\n",
            "Saving to: ‘samples/t10k-images-idx3-ubyte.gz’\n",
            "\n",
            "t10k-images-idx3-ub 100%[===================>]   1.57M  --.-KB/s    in 0.06s   \n",
            "\n",
            "2021-12-04 14:59:34 (24.9 MB/s) - ‘samples/t10k-images-idx3-ubyte.gz’ saved [1648877/1648877]\n",
            "\n",
            "--2021-12-04 14:59:34--  http://yann.lecun.com/exdb/mnist/t10k-labels-idx1-ubyte.gz\n",
            "Resolving yann.lecun.com (yann.lecun.com)... 104.21.29.36, 172.67.171.76, 2606:4700:3034::6815:1d24, ...\n",
            "Connecting to yann.lecun.com (yann.lecun.com)|104.21.29.36|:80... connected.\n",
            "HTTP request sent, awaiting response... 200 OK\n",
            "Length: 4542 (4.4K) [application/x-gzip]\n",
            "Saving to: ‘samples/t10k-labels-idx1-ubyte.gz’\n",
            "\n",
            "t10k-labels-idx1-ub 100%[===================>]   4.44K  --.-KB/s    in 0s      \n",
            "\n",
            "2021-12-04 14:59:34 (391 MB/s) - ‘samples/t10k-labels-idx1-ubyte.gz’ saved [4542/4542]\n",
            "\n"
          ]
        }
      ]
    },
    {
      "cell_type": "code",
      "metadata": {
        "id": "0XjsnEzVI9q1"
      },
      "source": [
        "# Import Relevant Packages\n",
        "from sklearn.svm import SVC\n",
        "import numpy as np\n",
        "from mnist.loader import MNIST\n",
        "from sklearn.metrics import accuracy_score,confusion_matrix,classification_report,f1_score"
      ],
      "execution_count": 6,
      "outputs": []
    },
    {
      "cell_type": "code",
      "metadata": {
        "id": "1TPlM_xJUTKA"
      },
      "source": [
        "from sklearn.svm import LinearSVC"
      ],
      "execution_count": 9,
      "outputs": []
    },
    {
      "cell_type": "code",
      "metadata": {
        "id": "WvXDgQXsI9q1",
        "colab": {
          "base_uri": "https://localhost:8080/"
        },
        "outputId": "a11d0f60-173d-4739-cbcd-eda9fdb65df1"
      },
      "source": [
        "mndata = MNIST('samples')\n",
        "\n",
        "# Load training dataset\n",
        "images, labels = mndata.load_training()\n",
        "l = len(labels)\n",
        "images_train = np.array(images)\n",
        "labels_train = np.array(labels)\n",
        "\n",
        "print(images_train.shape)\n",
        "print(labels_train.shape)"
      ],
      "execution_count": 10,
      "outputs": [
        {
          "output_type": "stream",
          "name": "stdout",
          "text": [
            "(60000, 784)\n",
            "(60000,)\n"
          ]
        }
      ]
    },
    {
      "cell_type": "code",
      "metadata": {
        "id": "pqZ5EG36I9q2",
        "colab": {
          "base_uri": "https://localhost:8080/"
        },
        "outputId": "199e5b93-f435-4053-e80e-417df10ca39c"
      },
      "source": [
        "# Load testing dataset\n",
        "images, labels = mndata.load_testing()\n",
        "l = len(labels)\n",
        "images_test = np.array(images)\n",
        "labels_test = np.array(labels)\n",
        "\n",
        "print(images_test.shape)\n",
        "print(labels_test.shape)"
      ],
      "execution_count": 11,
      "outputs": [
        {
          "output_type": "stream",
          "name": "stdout",
          "text": [
            "(10000, 784)\n",
            "(10000,)\n"
          ]
        }
      ]
    },
    {
      "cell_type": "markdown",
      "metadata": {
        "id": "N8F6VkaLI9q3"
      },
      "source": [
        "- Tweak different parameters like the C Parameter and gamma parameter of the Linear SVM and report the results.\n",
        "- Experiment different kernels for classification and report the results.\n",
        "\n",
        "Report accuracy score, F1-score, Confusion matrix and any other metrics you feel useful."
      ]
    },
    {
      "cell_type": "code",
      "metadata": {
        "id": "CztJyLokI9q3",
        "colab": {
          "base_uri": "https://localhost:8080/"
        },
        "outputId": "000968e0-a04b-4906-a22d-378697a3a715"
      },
      "source": [
        "classifier = LinearSVC(C=0.1)\n",
        "classifier.fit(images_train,labels_train)\n",
        "predicted = classifier.predict(images_test)\n",
        "\n",
        "print(classification_report(labels_test,predicted))\n",
        "print(confusion_matrix(labels_test,predicted))"
      ],
      "execution_count": null,
      "outputs": [
        {
          "output_type": "stream",
          "name": "stdout",
          "text": [
            "              precision    recall  f1-score   support\n",
            "\n",
            "           0       0.96      0.95      0.95       980\n",
            "           1       0.89      0.99      0.94      1135\n",
            "           2       0.92      0.83      0.87      1032\n",
            "           3       0.70      0.94      0.80      1010\n",
            "           4       0.82      0.93      0.87       982\n",
            "           5       0.91      0.66      0.76       892\n",
            "           6       0.93      0.92      0.92       958\n",
            "           7       0.94      0.85      0.89      1028\n",
            "           8       0.86      0.51      0.64       974\n",
            "           9       0.71      0.88      0.78      1009\n",
            "\n",
            "    accuracy                           0.85     10000\n",
            "   macro avg       0.86      0.85      0.84     10000\n",
            "weighted avg       0.86      0.85      0.85     10000\n",
            "\n",
            "[[ 929    0    0   12    3    6   19    4    2    5]\n",
            " [   0 1122    3    3    0    1    2    0    1    3]\n",
            " [   7   37  853   56   18    1   14   14   25    7]\n",
            " [   2    4   15  948    4    4    2    8    5   18]\n",
            " [   1    1    4    6  917    0    6    2    2   43]\n",
            " [   8    8    7  129   51  588   15   11   37   38]\n",
            " [   9    5   23    4   12   21  877    0    4    3]\n",
            " [   0   12   18   14   16    3    1  873    3   88]\n",
            " [   8   58    8  157   34   23   10    9  501  166]\n",
            " [   5    9    1   23   67    1    0   11    3  889]]\n"
          ]
        },
        {
          "output_type": "stream",
          "name": "stderr",
          "text": [
            "/usr/local/lib/python3.7/dist-packages/sklearn/svm/_base.py:1208: ConvergenceWarning: Liblinear failed to converge, increase the number of iterations.\n",
            "  ConvergenceWarning,\n"
          ]
        }
      ]
    },
    {
      "cell_type": "code",
      "metadata": {
        "id": "BDQlLtUbUTKB",
        "colab": {
          "base_uri": "https://localhost:8080/"
        },
        "outputId": "7cad96e1-0d8e-436c-dffd-7843e13cfa14"
      },
      "source": [
        "classifier = LinearSVC(C=1)\n",
        "classifier.fit(images_train,labels_train)\n",
        "predicted = classifier.predict(images_test)\n",
        "\n",
        "print(classification_report(labels_test,predicted))\n",
        "print(confusion_matrix(labels_test,predicted))"
      ],
      "execution_count": null,
      "outputs": [
        {
          "output_type": "stream",
          "name": "stdout",
          "text": [
            "              precision    recall  f1-score   support\n",
            "\n",
            "           0       0.94      0.95      0.95       980\n",
            "           1       0.97      0.97      0.97      1135\n",
            "           2       0.76      0.89      0.82      1032\n",
            "           3       0.96      0.73      0.83      1010\n",
            "           4       0.97      0.83      0.89       982\n",
            "           5       0.65      0.89      0.75       892\n",
            "           6       0.90      0.93      0.91       958\n",
            "           7       0.88      0.91      0.90      1028\n",
            "           8       0.75      0.61      0.67       974\n",
            "           9       0.85      0.83      0.84      1009\n",
            "\n",
            "    accuracy                           0.86     10000\n",
            "   macro avg       0.86      0.85      0.85     10000\n",
            "weighted avg       0.87      0.86      0.86     10000\n",
            "\n",
            "[[ 929    0   10    0    0    6   20    4    9    2]\n",
            " [   0 1102    8    0    0    4    5    1   13    2]\n",
            " [   9    6  920    7    5    9   20   13   39    4]\n",
            " [   6    0   69  735    0  112    5   21   48   14]\n",
            " [   1    1   25    0  816   15   17   13   30   64]\n",
            " [   8    1   34   13    4  791   14    9   13    5]\n",
            " [   9    3   17    0    2   31  893    0    3    0]\n",
            " [   0    4   28    1    1    2    1  940   11   40]\n",
            " [  14    9   82    4    5  215   18   13  599   15]\n",
            " [   8    8   22    6    9   27    1   52   37  839]]\n"
          ]
        },
        {
          "output_type": "stream",
          "name": "stderr",
          "text": [
            "/usr/local/lib/python3.7/dist-packages/sklearn/svm/_base.py:1208: ConvergenceWarning: Liblinear failed to converge, increase the number of iterations.\n",
            "  ConvergenceWarning,\n"
          ]
        }
      ]
    },
    {
      "cell_type": "code",
      "metadata": {
        "id": "eYLTVAwcUTKB",
        "colab": {
          "base_uri": "https://localhost:8080/"
        },
        "outputId": "693cdce5-cc32-492e-da21-f708f89c49c8"
      },
      "source": [
        "classifier = LinearSVC(C=1)\n",
        "classifier.fit(images_train,labels_train)\n",
        "predicted = classifier.predict(images_test)\n",
        "\n",
        "print(classification_report(labels_test,predicted))\n",
        "print(confusion_matrix(labels_test,predicted))"
      ],
      "execution_count": null,
      "outputs": [
        {
          "output_type": "stream",
          "name": "stdout",
          "text": [
            "              precision    recall  f1-score   support\n",
            "\n",
            "           0       0.97      0.93      0.95       980\n",
            "           1       0.93      0.99      0.96      1135\n",
            "           2       0.94      0.80      0.86      1032\n",
            "           3       0.83      0.90      0.86      1010\n",
            "           4       0.92      0.87      0.89       982\n",
            "           5       0.81      0.83      0.82       892\n",
            "           6       0.88      0.95      0.91       958\n",
            "           7       0.93      0.89      0.91      1028\n",
            "           8       0.76      0.74      0.75       974\n",
            "           9       0.82      0.87      0.84      1009\n",
            "\n",
            "    accuracy                           0.88     10000\n",
            "   macro avg       0.88      0.88      0.88     10000\n",
            "weighted avg       0.88      0.88      0.88     10000\n",
            "\n",
            "[[ 913    0    4    2    2   21   24    2    7    5]\n",
            " [   0 1122    3    1    0    2    6    0    0    1]\n",
            " [   3   21  822   54    9    9   30   10   72    2]\n",
            " [   4    3   12  908    2   26    5   11   32    7]\n",
            " [   0    4    5    2  855    5   23    2   31   55]\n",
            " [   7    3    1   37   13  740   18    9   32   32]\n",
            " [   6    2    5    1    4   28  906    0    6    0]\n",
            " [   0   10   18   14    7    2    2  915   15   45]\n",
            " [   5   27    6   52   18   73   14    9  719   51]\n",
            " [   4   10    2   22   19   10    0   24   37  881]]\n"
          ]
        },
        {
          "output_type": "stream",
          "name": "stderr",
          "text": [
            "/usr/local/lib/python3.7/dist-packages/sklearn/svm/_base.py:1208: ConvergenceWarning: Liblinear failed to converge, increase the number of iterations.\n",
            "  ConvergenceWarning,\n"
          ]
        }
      ]
    },
    {
      "cell_type": "code",
      "metadata": {
        "id": "zi8CyBCUaI6r"
      },
      "source": [
        "evals = np.zeros((3,5,5))\n",
        "N = 1000\n",
        "for k,kernel in enumerate([\"rbf\",\"linear\",\"poly\"]):\n",
        "  for c,C in enumerate([0.01, 0.1, 1, 10, 100]):\n",
        "    for g,gamma in enumerate([0.01, 0.1, 1, 10, 100]):\n",
        "      classifier = SVC(kernel=kernel, C=C, gamma=gamma)\n",
        "      classifier.fit(images_train[:N],labels_train[:N])\n",
        "      predicted = classifier.predict(images_test)\n",
        "      # print(f1_score(labels_test,predicted))\n",
        "      evals[k,c,g] = accuracy_score(labels_test,predicted)\n",
        "      # evals[k,c,g,1] = f1_score(labels_test,predicted)\n"
      ],
      "execution_count": 23,
      "outputs": []
    },
    {
      "cell_type": "code",
      "metadata": {
        "id": "OH96z_TbaLSa",
        "colab": {
          "base_uri": "https://localhost:8080/"
        },
        "outputId": "63501f6e-79d9-44e7-b32c-2cfad926e633"
      },
      "source": [
        "for k,kernel in enumerate([\"rbf\",\"linear\",\"poly\"]):\n",
        "  print(\"Kernal:\" + str(kernel)) \n",
        "  for c,C in enumerate([0.01, 0.1, 1, 10, 100]):\n",
        "    for g,gamma in enumerate([0.01, 0.1, 1, 10, 100]):\n",
        "      print(\"C = \" + str(C),end = \" \")\n",
        "      print(\"gamma = \" + str(gamma) + \" accuracy score = \" + str(evals[k,c,g]))"
      ],
      "execution_count": 22,
      "outputs": [
        {
          "output_type": "stream",
          "name": "stdout",
          "text": [
            "Kernal:rbf\n",
            "C = 0.01 gamma = 0.01 accuracy score = 0.1135\n",
            "C = 0.01 gamma = 0.1 accuracy score = 0.1135\n",
            "C = 0.01 gamma = 1 accuracy score = 0.1135\n",
            "C = 0.01 gamma = 10 accuracy score = 0.1135\n",
            "C = 0.01 gamma = 100 accuracy score = 0.1135\n",
            "C = 0.1 gamma = 0.01 accuracy score = 0.1135\n",
            "C = 0.1 gamma = 0.1 accuracy score = 0.1135\n",
            "C = 0.1 gamma = 1 accuracy score = 0.1135\n",
            "C = 0.1 gamma = 10 accuracy score = 0.1135\n",
            "C = 0.1 gamma = 100 accuracy score = 0.1135\n",
            "C = 1 gamma = 0.01 accuracy score = 0.1135\n",
            "C = 1 gamma = 0.1 accuracy score = 0.1135\n",
            "C = 1 gamma = 1 accuracy score = 0.1135\n",
            "C = 1 gamma = 10 accuracy score = 0.1135\n",
            "C = 1 gamma = 100 accuracy score = 0.1135\n",
            "C = 10 gamma = 0.01 accuracy score = 0.1135\n",
            "C = 10 gamma = 0.1 accuracy score = 0.1135\n",
            "C = 10 gamma = 1 accuracy score = 0.1135\n",
            "C = 10 gamma = 10 accuracy score = 0.1135\n",
            "C = 10 gamma = 100 accuracy score = 0.1135\n",
            "C = 100 gamma = 0.01 accuracy score = 0.1135\n",
            "C = 100 gamma = 0.1 accuracy score = 0.1135\n",
            "C = 100 gamma = 1 accuracy score = 0.1135\n",
            "C = 100 gamma = 10 accuracy score = 0.1135\n",
            "C = 100 gamma = 100 accuracy score = 0.1135\n",
            "Kernal:linear\n",
            "C = 0.01 gamma = 0.01 accuracy score = 0.693\n",
            "C = 0.01 gamma = 0.1 accuracy score = 0.693\n",
            "C = 0.01 gamma = 1 accuracy score = 0.693\n",
            "C = 0.01 gamma = 10 accuracy score = 0.693\n",
            "C = 0.01 gamma = 100 accuracy score = 0.693\n",
            "C = 0.1 gamma = 0.01 accuracy score = 0.693\n",
            "C = 0.1 gamma = 0.1 accuracy score = 0.693\n",
            "C = 0.1 gamma = 1 accuracy score = 0.693\n",
            "C = 0.1 gamma = 10 accuracy score = 0.693\n",
            "C = 0.1 gamma = 100 accuracy score = 0.693\n",
            "C = 1 gamma = 0.01 accuracy score = 0.693\n",
            "C = 1 gamma = 0.1 accuracy score = 0.693\n",
            "C = 1 gamma = 1 accuracy score = 0.693\n",
            "C = 1 gamma = 10 accuracy score = 0.693\n",
            "C = 1 gamma = 100 accuracy score = 0.693\n",
            "C = 10 gamma = 0.01 accuracy score = 0.693\n",
            "C = 10 gamma = 0.1 accuracy score = 0.693\n",
            "C = 10 gamma = 1 accuracy score = 0.693\n",
            "C = 10 gamma = 10 accuracy score = 0.693\n",
            "C = 10 gamma = 100 accuracy score = 0.693\n",
            "C = 100 gamma = 0.01 accuracy score = 0.693\n",
            "C = 100 gamma = 0.1 accuracy score = 0.693\n",
            "C = 100 gamma = 1 accuracy score = 0.693\n",
            "C = 100 gamma = 10 accuracy score = 0.693\n",
            "C = 100 gamma = 100 accuracy score = 0.693\n",
            "Kernal:poly\n",
            "C = 0.01 gamma = 0.01 accuracy score = 0.5942\n",
            "C = 0.01 gamma = 0.1 accuracy score = 0.5942\n",
            "C = 0.01 gamma = 1 accuracy score = 0.5942\n",
            "C = 0.01 gamma = 10 accuracy score = 0.5942\n",
            "C = 0.01 gamma = 100 accuracy score = 0.5942\n",
            "C = 0.1 gamma = 0.01 accuracy score = 0.5942\n",
            "C = 0.1 gamma = 0.1 accuracy score = 0.5942\n",
            "C = 0.1 gamma = 1 accuracy score = 0.5942\n",
            "C = 0.1 gamma = 10 accuracy score = 0.5942\n",
            "C = 0.1 gamma = 100 accuracy score = 0.5942\n",
            "C = 1 gamma = 0.01 accuracy score = 0.5942\n",
            "C = 1 gamma = 0.1 accuracy score = 0.5942\n",
            "C = 1 gamma = 1 accuracy score = 0.5942\n",
            "C = 1 gamma = 10 accuracy score = 0.5942\n",
            "C = 1 gamma = 100 accuracy score = 0.5942\n",
            "C = 10 gamma = 0.01 accuracy score = 0.5942\n",
            "C = 10 gamma = 0.1 accuracy score = 0.5942\n",
            "C = 10 gamma = 1 accuracy score = 0.5942\n",
            "C = 10 gamma = 10 accuracy score = 0.5942\n",
            "C = 10 gamma = 100 accuracy score = 0.5942\n",
            "C = 100 gamma = 0.01 accuracy score = 0.5942\n",
            "C = 100 gamma = 0.1 accuracy score = 0.5942\n",
            "C = 100 gamma = 1 accuracy score = 0.5942\n",
            "C = 100 gamma = 10 accuracy score = 0.5942\n",
            "C = 100 gamma = 100 accuracy score = 0.5942\n"
          ]
        }
      ]
    },
    {
      "cell_type": "code",
      "metadata": {
        "id": "hmMeiQjt8OeB"
      },
      "source": [
        "\n"
      ],
      "execution_count": null,
      "outputs": []
    }
  ]
}