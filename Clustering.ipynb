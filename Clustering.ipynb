{
  "cells": [
    {
      "cell_type": "markdown",
      "metadata": {
        "id": "vpWQigP0msj9"
      },
      "source": [
        "**Part 1:** \n",
        "\n",
        "Use the **Fashion-MNIST** dataset for this question.\n",
        "\n",
        "1a) Load the dataset and implement the K Means algorithm. You need to find the optimal number of clusters using the\n",
        "> i) elbow method\n",
        "\n",
        "> ii) silhoette method\n",
        "\n",
        "\n",
        "\n",
        "1b) Define the initial clusters’ centroids using:</br>\n",
        "> i) Forgy</br>\n",
        "\n",
        "> ii) Random Partition\n",
        "\n",
        "1c) Experiment with different distance measures [Euclidean distance, Manhattan distance].\n",
        "\n",
        "1d) Plot the error vs number of clusters graph while using the elbow method and silhouette \n",
        "    method. Report the optimal number of clusters found.\n",
        "\n",
        "\n",
        "1e) Visualize the dataset to depict the clusters formed. (prefer T-SNE)\n",
        "\n",
        "</br>\n",
        "</br>\n",
        "</br>\n",
        "</br>\n",
        "\n",
        "\n",
        "**Part 2:**\n",
        "</br>\n",
        "In this task, you need to implement Hierarchical clustering (agglomerative) on the same dataset.\n",
        "\n",
        "2a) visualize a dendogram and find out the optimal number of clusters with the help of Dendogram. Explain the procedure.\n",
        "\n",
        "\n",
        "2b) Implement Hierarchical clustering using: </br>\n",
        "> i) single linkage\n",
        "\n",
        "> ii) Complete linkage\n",
        "\n",
        ">Visualize the clusters obtained using these linkages and compare. \n",
        "\n"
      ]
    },
    {
      "cell_type": "code",
      "execution_count": 132,
      "metadata": {},
      "outputs": [],
      "source": [
        "import numpy as np\n",
        "import matplotlib.pyplot as plt"
      ]
    },
    {
      "cell_type": "code",
      "execution_count": 56,
      "metadata": {
        "id": "yY8uMDe9quTE"
      },
      "outputs": [],
      "source": [
        "#implement elbow method from scratch\n",
        "def elbow(X,K):\n",
        "   Inertia = []\n",
        "\n",
        "   for k in range(1,K+1):\n",
        "    # Building and fitting the model\n",
        "      model = Kmeans(K=k,dist_type=\"eucledian\",selection = \"forgy\")\n",
        "      model.fit(X)\n",
        "      Inertia.append(model.inertia())\n",
        "   return Inertia\n",
        "       "
      ]
    },
    {
      "cell_type": "code",
      "execution_count": null,
      "metadata": {
        "id": "32x9M36qq2fO"
      },
      "outputs": [],
      "source": [
        "#implement silhouette method from scratch\n",
        "def silhouette():\n",
        "\n"
      ]
    },
    {
      "cell_type": "code",
      "execution_count": 112,
      "metadata": {
        "id": "AW0iiyC6qDlb"
      },
      "outputs": [],
      "source": [
        "#implement Kmeans from scratch\n",
        "class Kmeans:\n",
        "\n",
        "  def __init__(self,K = 3,dist_type = \"eucledian\", selection = \"forgy\"):\n",
        "    self.K = K\n",
        "    self.clusters = [[] for i in range(K)]\n",
        "    self.mean = np.empty(K)\n",
        "    self.dist_type = dist_type\n",
        "    self.selection = selection\n",
        "\n",
        "  def distance(self, diff):\n",
        "    if self.dist_type == \"eucledian\":\n",
        "      # print(np.linalg.norm(diff,axis = 1).shape)\n",
        "      return np.linalg.norm(diff)\n",
        "    else:\n",
        "      return np.argmin(np.sum(abs(diff),axis = 1))\n",
        "      \n",
        "  def assign_means(self):\n",
        "    if self.selection == \"forgy\":\n",
        "      return self.X[np.random.choice(self.X.shape[0],size=(self.K),replace=False)]\n",
        "    else:\n",
        "      idx = np.random.choice(self.X.shape[0],size=(self.K),replace=True)\n",
        "      means = np.zeros(self.K)\n",
        "      for i in range(self.K):\n",
        "          means[i] = np.mean(self.X[idx == i])\n",
        "      return means\n",
        "    \n",
        "  def fit(self, X):\n",
        "    self.X = X\n",
        "    \n",
        "    self.mean = self.assign_means()\n",
        "    # print(self.mean.shape)\n",
        "    for _ in range(100):\n",
        "      clusters = [[] for i in range(self.K)]\n",
        "      for i in range(X.shape[0]):\n",
        "        d = np.zeros(self.K)\n",
        "        for j in range(self.K):\n",
        "          d[j] = self.distance(X[i] - self.mean[j])\n",
        "        closest = np.argmin(d)\n",
        "        clusters[closest].append(i)\n",
        "      self.clusters = clusters\n",
        "      \n",
        "      new_mean = np.zeros_like(self.mean)\n",
        "      for i,c in enumerate(self.clusters):\n",
        "        new_mean[i] = np.mean(self.X[c])\n",
        "\n",
        "      if np.linalg.norm(new_mean - self.mean) < 0.01:\n",
        "        break\n",
        "      \n",
        "      self.mean = new_mean\n",
        "\n",
        "  def Labels(self):\n",
        "    self.labels = np.zeros(self.X.shape[0])\n",
        "    for i,c in enumerate(self.clusters):\n",
        "      for j in c:\n",
        "        self.labels[j] = i\n",
        "    return self.labels\n",
        "\n",
        "  def inertia(self):\n",
        "    ine = 0\n",
        "    for i in range(len(self.clusters)):\n",
        "      ine += np.sum((self.X[self.clusters[i]]-self.mean[i])**2)\n",
        "    return ine"
      ]
    },
    {
      "cell_type": "code",
      "execution_count": 118,
      "metadata": {},
      "outputs": [
        {
          "data": {
            "text/plain": [
              "[<matplotlib.lines.Line2D at 0x1fe93faa6a0>]"
            ]
          },
          "execution_count": 118,
          "metadata": {},
          "output_type": "execute_result"
        },
        {
          "data": {
            "image/png": "[encoded data removed]",
            "text/plain": [
              "<Figure size 432x288 with 1 Axes>"
            ]
          },
          "metadata": {
            "needs_background": "light"
          },
          "output_type": "display_data"
        }
      ],
      "source": [
        "x = np.array([[1,1],[2,2],[0,0],[100,0],[-100,-100]])\n",
        "model = Kmeans(K=3,dist_type=\"eucledian\",selection = \"forgy\")\n",
        "model.fit(x)\n",
        "labels = model.Labels()\n",
        "labels\n",
        "\n",
        "plt.plot(elbow(x,K = 5))"
      ]
    },
    {
      "cell_type": "code",
      "execution_count": 111,
      "metadata": {},
      "outputs": [
        {
          "data": {
            "text/plain": [
              "array([[-100, -100],\n",
              "       [  50,   50],\n",
              "       [   1,    1]])"
            ]
          },
          "execution_count": 111,
          "metadata": {},
          "output_type": "execute_result"
        }
      ],
      "source": [
        "model.mean"
      ]
    },
    {
      "cell_type": "code",
      "execution_count": 134,
      "metadata": {
        "id": "6j7nYmipmrC6"
      },
      "outputs": [],
      "source": [
        "from keras.datasets import fashion_mnist\n",
        "from tqdm import tqdm\n",
        "\n",
        "(trainX, trainy), (testX, testy) = fashion_mnist.load_data()\n",
        "\n",
        "# you can performs your training on train/test dataset alone if there are computational issues"
      ]
    },
    {
      "cell_type": "code",
      "execution_count": 138,
      "metadata": {},
      "outputs": [],
      "source": [
        "trainX = trainX.reshape(trainX.shape[0], trainX.shape[1] * trainX.shape[2])\n",
        "testX = testX.reshape(testX.shape[0], testX.shape[1] * testX.shape[2])"
      ]
    },
    {
      "cell_type": "markdown",
      "metadata": {
        "id": "y4xDlZiaxs56"
      },
      "source": [
        "Hierarchical clustering"
      ]
    },
    {
      "cell_type": "code",
      "execution_count": 120,
      "metadata": {
        "id": "3teXlnf1xZZF"
      },
      "outputs": [],
      "source": [
        "# implement hierarchical clustering ( you can use scikit module)\n",
        "from sklearn.cluster import AgglomerativeClustering\n",
        "\n",
        "def hierarchical_clustering(X, K, method=\"single\"):\n",
        "    cluster = AgglomerativeClustering(n_clusters=K, affinity='euclidean', linkage=method)  \n",
        "    cluster.fit_predict(X)"
      ]
    },
    {
      "cell_type": "code",
      "execution_count": 139,
      "metadata": {
        "id": "wmTODerdxlht"
      },
      "outputs": [],
      "source": [
        "#visualize a dendogram\n",
        "import scipy.cluster.hierarchy as shc\n",
        "\n",
        "def dendogram(data, method=\"single\"):\n",
        "    linkage_matrix = shc.linkage(data, method=method)\n",
        "    plt.figure(figsize=(10, 7))  \n",
        "    dend = shc.dendrogram(linkage_matrix)"
      ]
    },
    {
      "cell_type": "code",
      "execution_count": 140,
      "metadata": {},
      "outputs": [
        {
          "data": {
            "image/png": "[encoded data removed]",
            "text/plain": [
              "<Figure size 720x504 with 1 Axes>"
            ]
          },
          "metadata": {
            "needs_background": "light"
          },
          "output_type": "display_data"
        }
      ],
      "source": [
        "dendogram(trainX[:1000, :])"
      ]
    },
    {
      "cell_type": "markdown",
      "metadata": {
        "id": "zhYTSCC-xx4T"
      },
      "source": [
        "**Question**: Explain the procedure to find the optimal number of clusters using dendogram\n",
        "\n",
        "Answer: </br>\n",
        "</br>\n",
        "</br>\n",
        "</br>\n",
        "\n",
        "\n",
        "\n"
      ]
    },
    {
      "cell_type": "code",
      "execution_count": null,
      "metadata": {
        "id": "ujBgFKzwyLWb"
      },
      "outputs": [],
      "source": [
        "#visualisation of clusters using single linkage and complete linkage\n",
        "\n",
        "\n",
        "\n"
      ]
    },
    {
      "cell_type": "markdown",
      "metadata": {
        "id": "WU459HN1yYHj"
      },
      "source": [
        "**Question:** Mention the differences observed using single and complete linkage:\n",
        "\n",
        "Answer: </br>\n",
        "</br>\n",
        "</br>\n",
        "</br>"
      ]
    }
  ],
  "metadata": {
    "colab": {
      "name": "Copy of Clustering.ipynb",
      "provenance": []
    },
    "kernelspec": {
      "display_name": "Python 3",
      "name": "python3"
    },
    "language_info": {
      "codemirror_mode": {
        "name": "ipython",
        "version": 3
      },
      "file_extension": ".py",
      "mimetype": "text/x-python",
      "name": "python",
      "nbconvert_exporter": "python",
      "pygments_lexer": "ipython3",
      "version": "3.8.8"
    }
  },
  "nbformat": 4,
  "nbformat_minor": 0
}
