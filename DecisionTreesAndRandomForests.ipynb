{
  "cells": [
    {
      "cell_type": "markdown",
      "metadata": {
        "id": "Q0_wToNFHMN3"
      },
      "source": [
        "# **Decision Trees**\n",
        "\n",
        "The Wisconsin Breast Cancer Dataset(WBCD) can be found here(https://archive.ics.uci.edu/ml/machine-learning-databases/breast-cancer-wisconsin/breast-cancer-wisconsin.data)\n",
        "\n",
        "This dataset describes the characteristics of the cell nuclei of various patients with and without breast cancer. The task is to classify a decision tree to predict if a patient has a benign or a malignant tumour based on these features.\n",
        "\n",
        "Attribute Information:\n",
        "```\n",
        "#  Attribute                     Domain\n",
        "   -- -----------------------------------------\n",
        "   1. Sample code number            id number\n",
        "   2. Clump Thickness               1 - 10\n",
        "   3. Uniformity of Cell Size       1 - 10\n",
        "   4. Uniformity of Cell Shape      1 - 10\n",
        "   5. Marginal Adhesion             1 - 10\n",
        "   6. Single Epithelial Cell Size   1 - 10\n",
        "   7. Bare Nuclei                   1 - 10\n",
        "   8. Bland Chromatin               1 - 10\n",
        "   9. Normal Nucleoli               1 - 10\n",
        "  10. Mitoses                       1 - 10\n",
        "  11. Class:                        (2 for benign, 4 for malignant)\n",
        "```"
      ]
    },
    {
      "cell_type": "code",
      "execution_count": 4,
      "metadata": {},
      "outputs": [],
      "source": [
        "import numpy as np \n",
        "import pandas as pd \n",
        "from sklearn.tree import DecisionTreeClassifier\n",
        "from sklearn.metrics import accuracy_score \n",
        "from sklearn.model_selection import train_test_split"
      ]
    },
    {
      "cell_type": "code",
      "execution_count": 5,
      "metadata": {
        "id": "qYdlWpUVHMOB"
      },
      "outputs": [
        {
          "data": {
            "text/html": [
              "<div>\n",
              "<style scoped>\n",
              "    .dataframe tbody tr th:only-of-type {\n",
              "        vertical-align: middle;\n",
              "    }\n",
              "\n",
              "    .dataframe tbody tr th {\n",
              "        vertical-align: top;\n",
              "    }\n",
              "\n",
              "    .dataframe thead th {\n",
              "        text-align: right;\n",
              "    }\n",
              "</style>\n",
              "<table border=\"1\" class=\"dataframe\">\n",
              "  <thead>\n",
              "    <tr style=\"text-align: right;\">\n",
              "      <th></th>\n",
              "      <th>CT</th>\n",
              "      <th>UCSize</th>\n",
              "      <th>UCShape</th>\n",
              "      <th>MA</th>\n",
              "      <th>SECSize</th>\n",
              "      <th>BN</th>\n",
              "      <th>BC</th>\n",
              "      <th>NN</th>\n",
              "      <th>Mitoses</th>\n",
              "      <th>Diagnosis</th>\n",
              "    </tr>\n",
              "  </thead>\n",
              "  <tbody>\n",
              "    <tr>\n",
              "      <th>count</th>\n",
              "      <td>699.000000</td>\n",
              "      <td>699.000000</td>\n",
              "      <td>699.000000</td>\n",
              "      <td>699.000000</td>\n",
              "      <td>699.000000</td>\n",
              "      <td>699.000000</td>\n",
              "      <td>699.000000</td>\n",
              "      <td>699.000000</td>\n",
              "      <td>699.000000</td>\n",
              "      <td>699.000000</td>\n",
              "    </tr>\n",
              "    <tr>\n",
              "      <th>mean</th>\n",
              "      <td>4.417740</td>\n",
              "      <td>3.134478</td>\n",
              "      <td>3.207439</td>\n",
              "      <td>2.806867</td>\n",
              "      <td>3.216023</td>\n",
              "      <td>3.463519</td>\n",
              "      <td>3.437768</td>\n",
              "      <td>2.866953</td>\n",
              "      <td>1.589413</td>\n",
              "      <td>2.689557</td>\n",
              "    </tr>\n",
              "    <tr>\n",
              "      <th>std</th>\n",
              "      <td>2.815741</td>\n",
              "      <td>3.051459</td>\n",
              "      <td>2.971913</td>\n",
              "      <td>2.855379</td>\n",
              "      <td>2.214300</td>\n",
              "      <td>3.640708</td>\n",
              "      <td>2.438364</td>\n",
              "      <td>3.053634</td>\n",
              "      <td>1.715078</td>\n",
              "      <td>0.951273</td>\n",
              "    </tr>\n",
              "    <tr>\n",
              "      <th>min</th>\n",
              "      <td>1.000000</td>\n",
              "      <td>1.000000</td>\n",
              "      <td>1.000000</td>\n",
              "      <td>1.000000</td>\n",
              "      <td>1.000000</td>\n",
              "      <td>0.000000</td>\n",
              "      <td>1.000000</td>\n",
              "      <td>1.000000</td>\n",
              "      <td>1.000000</td>\n",
              "      <td>2.000000</td>\n",
              "    </tr>\n",
              "    <tr>\n",
              "      <th>25%</th>\n",
              "      <td>2.000000</td>\n",
              "      <td>1.000000</td>\n",
              "      <td>1.000000</td>\n",
              "      <td>1.000000</td>\n",
              "      <td>2.000000</td>\n",
              "      <td>1.000000</td>\n",
              "      <td>2.000000</td>\n",
              "      <td>1.000000</td>\n",
              "      <td>1.000000</td>\n",
              "      <td>2.000000</td>\n",
              "    </tr>\n",
              "    <tr>\n",
              "      <th>50%</th>\n",
              "      <td>4.000000</td>\n",
              "      <td>1.000000</td>\n",
              "      <td>1.000000</td>\n",
              "      <td>1.000000</td>\n",
              "      <td>2.000000</td>\n",
              "      <td>1.000000</td>\n",
              "      <td>3.000000</td>\n",
              "      <td>1.000000</td>\n",
              "      <td>1.000000</td>\n",
              "      <td>2.000000</td>\n",
              "    </tr>\n",
              "    <tr>\n",
              "      <th>75%</th>\n",
              "      <td>6.000000</td>\n",
              "      <td>5.000000</td>\n",
              "      <td>5.000000</td>\n",
              "      <td>4.000000</td>\n",
              "      <td>4.000000</td>\n",
              "      <td>5.000000</td>\n",
              "      <td>5.000000</td>\n",
              "      <td>4.000000</td>\n",
              "      <td>1.000000</td>\n",
              "      <td>4.000000</td>\n",
              "    </tr>\n",
              "    <tr>\n",
              "      <th>max</th>\n",
              "      <td>10.000000</td>\n",
              "      <td>10.000000</td>\n",
              "      <td>10.000000</td>\n",
              "      <td>10.000000</td>\n",
              "      <td>10.000000</td>\n",
              "      <td>10.000000</td>\n",
              "      <td>10.000000</td>\n",
              "      <td>10.000000</td>\n",
              "      <td>10.000000</td>\n",
              "      <td>4.000000</td>\n",
              "    </tr>\n",
              "  </tbody>\n",
              "</table>\n",
              "</div>"
            ],
            "text/plain": [
              "               CT      UCSize     UCShape          MA     SECSize          BN  \\\n",
              "count  699.000000  699.000000  699.000000  699.000000  699.000000  699.000000   \n",
              "mean     4.417740    3.134478    3.207439    2.806867    3.216023    3.463519   \n",
              "std      2.815741    3.051459    2.971913    2.855379    2.214300    3.640708   \n",
              "min      1.000000    1.000000    1.000000    1.000000    1.000000    0.000000   \n",
              "25%      2.000000    1.000000    1.000000    1.000000    2.000000    1.000000   \n",
              "50%      4.000000    1.000000    1.000000    1.000000    2.000000    1.000000   \n",
              "75%      6.000000    5.000000    5.000000    4.000000    4.000000    5.000000   \n",
              "max     10.000000   10.000000   10.000000   10.000000   10.000000   10.000000   \n",
              "\n",
              "               BC          NN     Mitoses   Diagnosis  \n",
              "count  699.000000  699.000000  699.000000  699.000000  \n",
              "mean     3.437768    2.866953    1.589413    2.689557  \n",
              "std      2.438364    3.053634    1.715078    0.951273  \n",
              "min      1.000000    1.000000    1.000000    2.000000  \n",
              "25%      2.000000    1.000000    1.000000    2.000000  \n",
              "50%      3.000000    1.000000    1.000000    2.000000  \n",
              "75%      5.000000    4.000000    1.000000    4.000000  \n",
              "max     10.000000   10.000000   10.000000    4.000000  "
            ]
          },
          "execution_count": 5,
          "metadata": {},
          "output_type": "execute_result"
        }
      ],
      "source": [
        "import pandas as pd\n",
        "headers = [\"ID\",\"CT\",\"UCSize\",\"UCShape\",\"MA\",\"SECSize\",\"BN\",\"BC\",\"NN\",\"Mitoses\",\"Diagnosis\"]\n",
        "data = pd.read_csv('breast-cancer-wisconsin.data', na_values='?',    \n",
        "         header=None, index_col=['ID'], names = headers) \n",
        "data = data.reset_index(drop=True)\n",
        "data = data.fillna(0)\n",
        "data.describe()"
      ]
    },
    {
      "cell_type": "markdown",
      "metadata": {
        "id": "x_gQq5qrHMOG"
      },
      "source": [
        "1. a) Implement a decision tree (you can use decision tree implementation from existing libraries)."
      ]
    },
    {
      "cell_type": "code",
      "execution_count": 9,
      "metadata": {
        "id": "g6R3GmzBHMOH"
      },
      "outputs": [],
      "source": [
        "X = data.values[:, :-1] \n",
        "Y = data.values[:, -1]\n",
        "X_train, X_test, y_train, y_test = train_test_split(X, Y, test_size = 0.3) "
      ]
    },
    {
      "cell_type": "markdown",
      "metadata": {
        "id": "VZ7N9m_mHMOJ"
      },
      "source": [
        "1. b) Train a decision tree object of the above class on the WBC dataset using misclassification rate, entropy and Gini as the splitting metrics."
      ]
    },
    {
      "cell_type": "code",
      "execution_count": 11,
      "metadata": {
        "id": "eHFij6PaHMOJ"
      },
      "outputs": [],
      "source": [
        "model_entropy = DecisionTreeClassifier(criterion = \"entropy\")\n",
        "model_entropy.fit(X_train, y_train)\n",
        "entropy_pred = model_entropy.predict(X_test)\n",
        "\n",
        "model_gini = DecisionTreeClassifier(criterion = \"gini\")\n",
        "model_gini.fit(X_train, y_train)\n",
        "gini_pred = model_gini.predict(X_test)"
      ]
    },
    {
      "cell_type": "markdown",
      "metadata": {
        "id": "eXEjInvmHMOK"
      },
      "source": [
        "1. c) Report the accuracies in each of the above splitting metrics and give the best result. "
      ]
    },
    {
      "cell_type": "code",
      "execution_count": 17,
      "metadata": {
        "id": "49QZvmgNHMOL"
      },
      "outputs": [
        {
          "name": "stdout",
          "output_type": "stream",
          "text": [
            "Accuracies:\n",
            "  for splt at entropy: 94.28571428571428\n",
            "  for splt at gini: 94.28571428571428\n"
          ]
        }
      ],
      "source": [
        "gini_accuracy = accuracy_score(gini_pred,y_test)\n",
        "entropy_accuracy = accuracy_score(entropy_pred,y_test)\n",
        "print(f'Accuracies:\\n  for splt at entropy: {entropy_accuracy*100}\\n  for splt at gini: {gini_accuracy*100}')"
      ]
    },
    {
      "cell_type": "markdown",
      "metadata": {
        "id": "Bz_7nYxPHMON"
      },
      "source": [
        "1. d) Experiment with different approaches to decide when to terminate the tree (number of layers, purity measure, etc). Report and give explanations for all approaches. "
      ]
    },
    {
      "cell_type": "code",
      "execution_count": 20,
      "metadata": {},
      "outputs": [],
      "source": [
        "from sklearn.model_selection import GridSearchCV\n",
        "from sklearn.model_selection import RandomizedSearchCV"
      ]
    },
    {
      "cell_type": "code",
      "execution_count": 27,
      "metadata": {
        "id": "yLRI0niJHMOP"
      },
      "outputs": [],
      "source": [
        "hyper_params = {\n",
        "    'criterion': ['gini','entropy'],\n",
        "    'max_depth': range(5,20),\n",
        "    'min_samples_leaf': range(5,500,5),\n",
        "    'random_state': range(0,100,5)\n",
        "}"
      ]
    },
    {
      "cell_type": "code",
      "execution_count": 28,
      "metadata": {},
      "outputs": [
        {
          "name": "stdout",
          "output_type": "stream",
          "text": [
            "Best parameters : {'criterion': 'entropy', 'max_depth': 5, 'min_samples_leaf': 10, 'random_state': 5}\n",
            "Score:0.9407532084998949\n"
          ]
        }
      ],
      "source": [
        "gridsearch = GridSearchCV(DecisionTreeClassifier(), hyper_params, cv=5)\n",
        "gridsearch.fit(X_train,y_train)\n",
        "print(f'Best parameters : {gridsearch.best_params_}\\nScore:{gridsearch.best_score_}')"
      ]
    },
    {
      "cell_type": "code",
      "execution_count": 42,
      "metadata": {},
      "outputs": [
        {
          "name": "stdout",
          "output_type": "stream",
          "text": [
            "Accuracy    :   94.76190476190476 %\n"
          ]
        }
      ],
      "source": [
        "model = DecisionTreeClassifier(criterion = \"entropy\",  random_state=5, max_depth=5 )\n",
        "model.fit(X_train, y_train)\n",
        "pred = model.predict(X_test)\n",
        "accuracy = accuracy_score(pred,y_test)\n",
        "print(f'Accuracy    :   {accuracy*100} %')"
      ]
    },
    {
      "cell_type": "code",
      "execution_count": 32,
      "metadata": {},
      "outputs": [
        {
          "name": "stdout",
          "output_type": "stream",
          "text": [
            "Best parameters : {'random_state': 15, 'min_samples_leaf': 5, 'max_depth': 13, 'criterion': 'entropy'}\n",
            "Score:0.9386913528297918%\n"
          ]
        }
      ],
      "source": [
        "randsearch = RandomizedSearchCV(DecisionTreeClassifier(), hyper_params, cv=5)\n",
        "randsearch.fit(X_train,y_train)\n",
        "print(f'Best parameters : {randsearch.best_params_}\\nScore:{randsearch.best_score_}')"
      ]
    },
    {
      "cell_type": "code",
      "execution_count": 41,
      "metadata": {},
      "outputs": [
        {
          "name": "stdout",
          "output_type": "stream",
          "text": [
            "Accuracy    :   94.28571428571428 %\n"
          ]
        }
      ],
      "source": [
        "model = DecisionTreeClassifier(criterion = \"entropy\",  random_state=15, max_depth=13 )\n",
        "model.fit(X_train, y_train)\n",
        "pred = model.predict(X_test)\n",
        "accuracy = accuracy_score(pred,y_test)\n",
        "print(f'Accuracy    :   {accuracy*100} %')"
      ]
    },
    {
      "cell_type": "markdown",
      "metadata": {
        "id": "uWAN_wWXHMOQ"
      },
      "source": [
        "2. What is boosting, bagging and  stacking?\n",
        "Which class does random forests belong to and why?"
      ]
    },
    {
      "cell_type": "markdown",
      "metadata": {
        "id": "LnO5uqHlHMOR"
      },
      "source": [
        "Answer:"
      ]
    },
    {
      "cell_type": "markdown",
      "metadata": {
        "id": "pihvGbqLHMOS"
      },
      "source": [
        "3. Implement random forest algorithm using different decision trees . "
      ]
    },
    {
      "cell_type": "code",
      "execution_count": 109,
      "metadata": {
        "id": "dXdPP2aIHMOT"
      },
      "outputs": [],
      "source": [
        "class RandomForest:\n",
        "    def __init__(self,n=3,min_sample_split=2,max_depth=5,criterion=\"entropy\" ):\n",
        "        self.n = n\n",
        "        self.min_sample_split = min_sample_split\n",
        "        self.max_depth = max_depth\n",
        "        self.criterion = criterion\n",
        "        self.trees = [DecisionTreeClassifier(max_depth=self.max_depth, min_samples_split=self.min_sample_split, criterion=self.criterion) for _ in range(n)]\n",
        "\n",
        "    def fit(self,X,y):\n",
        "        for i in range(self.n):\n",
        "            samples = np.random.choice(X.shape[0],X.shape[0],replace = True)\n",
        "            X_sample = X[samples]\n",
        "            y_sample = y[samples]\n",
        "            self.trees[i].fit(X_sample,y_sample)\n",
        "    \n",
        "    def predict(self,X):\n",
        "        pred = []\n",
        "        for i in range(self.n):\n",
        "            pred.append(self.trees[i].predict(X))\n",
        "        pred = np.array(pred,dtype=int).T\n",
        "        y = np.zeros(X.shape[0],dtype=np.int64)\n",
        "        for i in range(X.shape[0]):\n",
        "            y[i] = np.argmax(np.bincount(pred[i]))\n",
        "            print(np.bincount(pred[i]))\n",
        "        return y"
      ]
    },
    {
      "cell_type": "markdown",
      "metadata": {
        "id": "zJOn5nNZHMOU"
      },
      "source": [
        "4. Report the accuracies obtained after using the Random forest algorithm and compare it with the best accuracies obtained with the decision trees. "
      ]
    },
    {
      "cell_type": "code",
      "execution_count": 110,
      "metadata": {
        "id": "Ce4KiiIGHMOV"
      },
      "outputs": [
        {
          "name": "stdout",
          "output_type": "stream",
          "text": [
            "[  0   0 135   0  75]\n",
            "[  0   0 128   0  82]\n",
            "[  0   0 131   0  79]\n",
            "[  0   0 127   0  83]\n",
            "[  0   0 132   0  78]\n",
            "[  0   0 137   0  73]\n",
            "[  0   0 136   0  74]\n",
            "[  0   0 135   0  75]\n",
            "[  0   0 129   0  81]\n",
            "[  0   0 120   0  90]\n"
          ]
        }
      ],
      "source": [
        "model = RandomForest(max_depth=3,n=10,criterion='entropy')\n",
        "model.fit(X_train,y_train)\n",
        "y_pred = model.predict(X_test)"
      ]
    },
    {
      "cell_type": "code",
      "execution_count": 108,
      "metadata": {},
      "outputs": [
        {
          "data": {
            "text/plain": [
              "array([2, 2, 2, 2, 2, 2, 2, 2, 2, 2, 0, 0, 0, 0, 0, 0, 0, 0, 0, 0, 0, 0,\n",
              "       0, 0, 0, 0, 0, 0, 0, 0, 0, 0, 0, 0, 0, 0, 0, 0, 0, 0, 0, 0, 0, 0,\n",
              "       0, 0, 0, 0, 0, 0, 0, 0, 0, 0, 0, 0, 0, 0, 0, 0, 0, 0, 0, 0, 0, 0,\n",
              "       0, 0, 0, 0, 0, 0, 0, 0, 0, 0, 0, 0, 0, 0, 0, 0, 0, 0, 0, 0, 0, 0,\n",
              "       0, 0, 0, 0, 0, 0, 0, 0, 0, 0, 0, 0, 0, 0, 0, 0, 0, 0, 0, 0, 0, 0,\n",
              "       0, 0, 0, 0, 0, 0, 0, 0, 0, 0, 0, 0, 0, 0, 0, 0, 0, 0, 0, 0, 0, 0,\n",
              "       0, 0, 0, 0, 0, 0, 0, 0, 0, 0, 0, 0, 0, 0, 0, 0, 0, 0, 0, 0, 0, 0,\n",
              "       0, 0, 0, 0, 0, 0, 0, 0, 0, 0, 0, 0, 0, 0, 0, 0, 0, 0, 0, 0, 0, 0,\n",
              "       0, 0, 0, 0, 0, 0, 0, 0, 0, 0, 0, 0, 0, 0, 0, 0, 0, 0, 0, 0, 0, 0,\n",
              "       0, 0, 0, 0, 0, 0, 0, 0, 0, 0, 0, 0], dtype=int64)"
            ]
          },
          "execution_count": 108,
          "metadata": {},
          "output_type": "execute_result"
        }
      ],
      "source": [
        "y_pred"
      ]
    },
    {
      "cell_type": "code",
      "execution_count": 63,
      "metadata": {},
      "outputs": [
        {
          "data": {
            "text/plain": [
              "(210,)"
            ]
          },
          "execution_count": 63,
          "metadata": {},
          "output_type": "execute_result"
        }
      ],
      "source": [
        "y_test.shape"
      ]
    },
    {
      "cell_type": "markdown",
      "metadata": {
        "id": "yj-vNvsYHMOX"
      },
      "source": [
        "5. Submit your solution as a separate pdf in the final zip file of your submission\n",
        "\n",
        "\n",
        "Compute a decision tree with the goal to predict the food review based on its smell, taste and portion size.\n",
        "\n",
        "(a) Compute the entropy of each rule in the first stage.\n",
        "\n",
        "(b) Show the final decision tree. Clearly draw it.\n",
        "\n",
        "Submit a handwritten response. Clearly show all the steps.\n",
        "\n"
      ]
    }
  ],
  "metadata": {
    "colab": {
      "name": "Decision_trees.ipynb",
      "provenance": []
    },
    "interpreter": {
      "hash": "1f8d80d535cfd832283e4e3a1095d2ce45fe6627336684f2622a1965babb2f1c"
    },
    "kernelspec": {
      "display_name": "Python 3.9.7 64-bit (windows store)",
      "name": "python3"
    },
    "language_info": {
      "codemirror_mode": {
        "name": "ipython",
        "version": 3
      },
      "file_extension": ".py",
      "mimetype": "text/x-python",
      "name": "python",
      "nbconvert_exporter": "python",
      "pygments_lexer": "ipython3",
      "version": "3.8.8"
    },
    "orig_nbformat": 4
  },
  "nbformat": 4,
  "nbformat_minor": 0
}
